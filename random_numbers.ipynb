{
 "cells": [
  {
   "cell_type": "code",
   "execution_count": 1,
   "id": "e3fc1b12",
   "metadata": {},
   "outputs": [],
   "source": [
    "# Import the random module.\n",
    "import random"
   ]
  },
  {
   "cell_type": "code",
   "execution_count": 2,
   "id": "9d9aea95",
   "metadata": {},
   "outputs": [
    {
     "data": {
      "text/plain": [
       "31"
      ]
     },
     "execution_count": 2,
     "metadata": {},
     "output_type": "execute_result"
    }
   ],
   "source": [
    "# genearate random integer within the 2 parameters provided. Note:random value can be min or max value in the parameters\n",
    "random.randint(-90,90)"
   ]
  },
  {
   "cell_type": "code",
   "execution_count": 3,
   "id": "436c50ba",
   "metadata": {},
   "outputs": [
    {
     "data": {
      "text/plain": [
       "0.895935362565548"
      ]
     },
     "execution_count": 3,
     "metadata": {},
     "output_type": "execute_result"
    }
   ],
   "source": [
    "# get a single floating-point decimal number between 0 and 1.0.\n",
    "random.random()"
   ]
  },
  {
   "cell_type": "code",
   "execution_count": 4,
   "id": "3547a144",
   "metadata": {},
   "outputs": [
    {
     "data": {
      "text/plain": [
       "26.673101981248152"
      ]
     },
     "execution_count": 4,
     "metadata": {},
     "output_type": "execute_result"
    }
   ],
   "source": [
    "# combine random.randint(-90, 89) & random.random() to generate a floating-point decimal between –90 and 90\n",
    "# generate random latitude\n",
    "random_number = random.randint(-90, 89) + random.random()\n",
    "random_number"
   ]
  },
  {
   "cell_type": "code",
   "execution_count": 7,
   "id": "d5c7aec1",
   "metadata": {},
   "outputs": [
    {
     "data": {
      "text/plain": [
       "[20.988984499214926,\n",
       " 26.999162089840663,\n",
       " 28.18794438837596,\n",
       " 53.1720443889929,\n",
       " -2.5656422652555806,\n",
       " 17.809992397176707,\n",
       " -63.25567403240818,\n",
       " -12.478382750357081,\n",
       " 60.48493920681782,\n",
       " -5.04248696175146]"
      ]
     },
     "execution_count": 7,
     "metadata": {},
     "output_type": "execute_result"
    }
   ],
   "source": [
    "# algorithm that will generate latitudes between –90 and 89\n",
    "x = 1\n",
    "latitudes = []\n",
    "while x < 11:\n",
    "    random_lat = random.randint(-90, 89) + random.random()\n",
    "    latitudes.append(random_lat)\n",
    "    x += 1\n",
    "    \n",
    "latitudes"
   ]
  },
  {
   "cell_type": "code",
   "execution_count": 8,
   "id": "315f4ade",
   "metadata": {},
   "outputs": [
    {
     "data": {
      "text/plain": [
       "-27"
      ]
     },
     "execution_count": 8,
     "metadata": {},
     "output_type": "execute_result"
    }
   ],
   "source": [
    "# alternate approach using randrange() as the code to generate the latitudes above is a little long.\n",
    "random.randrange(-90, 90, step=1)"
   ]
  },
  {
   "cell_type": "code",
   "execution_count": 9,
   "id": "32c751c4",
   "metadata": {},
   "outputs": [
    {
     "data": {
      "text/plain": [
       "48"
      ]
     },
     "execution_count": 9,
     "metadata": {},
     "output_type": "execute_result"
    }
   ],
   "source": [
    "random.randrange(-90, 90, step=3)"
   ]
  },
  {
   "cell_type": "code",
   "execution_count": 11,
   "id": "f6d7335d",
   "metadata": {},
   "outputs": [
    {
     "data": {
      "text/plain": [
       "-53.196712395732064"
      ]
     },
     "execution_count": 11,
     "metadata": {},
     "output_type": "execute_result"
    }
   ],
   "source": [
    "# to generate a floating-point decimal number between two given numbers inside the parentheses\n",
    "random.uniform(-90, 90)"
   ]
  },
  {
   "cell_type": "code",
   "execution_count": 13,
   "id": "6acfae79",
   "metadata": {},
   "outputs": [],
   "source": [
    "# to generate more than a thousand latitudes and longitudes is to chain the NumPy module to the random module to create \n",
    "# an array of latitudes or longitudes between the lowest and highest values, or –90° and 90°, and –180° and 180°, \n",
    "# respectively.To accomplish this, we'll use the uniform() function from the random module.\n",
    "\n",
    "# Import the NumPy module.\n",
    "import numpy as np"
   ]
  },
  {
   "cell_type": "code",
   "execution_count": 15,
   "id": "aa594b2c",
   "metadata": {},
   "outputs": [
    {
     "data": {
      "text/plain": [
       "-62.72422399290233"
      ]
     },
     "execution_count": 15,
     "metadata": {},
     "output_type": "execute_result"
    }
   ],
   "source": [
    "np.random.uniform(-90.000, 90.000)"
   ]
  },
  {
   "cell_type": "code",
   "execution_count": 14,
   "id": "20ab9ad5",
   "metadata": {},
   "outputs": [
    {
     "data": {
      "text/plain": [
       "array([-41.60186027, -72.79119626, -20.33851263, -71.17068444,\n",
       "       -36.5292871 , -48.28812568,  40.02809155, -38.33469585,\n",
       "         5.17420912, -26.89021951,  17.48088098, -76.73942271,\n",
       "        76.76003465, -25.14868689,  28.93513426, -54.7272517 ,\n",
       "        42.77589468,  16.64581435,  -9.38420262,  42.84757466,\n",
       "       -81.85370724,   9.10754766,  34.42117141, -22.06555196,\n",
       "       -50.5590819 ,  77.79010001, -39.62448325, -18.19647959,\n",
       "       -73.75043927,  13.33036558,  87.0606401 ,   7.82411936,\n",
       "        54.1012207 , -19.37678155,  57.47057714, -68.00782495,\n",
       "        72.98589513, -28.04641497,  78.48536538, -65.95558693,\n",
       "        -1.06294273,  27.50892289,  51.25230002, -43.80063311,\n",
       "       -57.27157976, -24.02513895,  78.12494519, -41.17586318,\n",
       "        86.64620115,  74.3791888 ])"
      ]
     },
     "execution_count": 14,
     "metadata": {},
     "output_type": "execute_result"
    }
   ],
   "source": [
    "np.random.uniform(-90.000, 90.000, size=50)"
   ]
  },
  {
   "cell_type": "code",
   "execution_count": 16,
   "id": "832cf625",
   "metadata": {},
   "outputs": [],
   "source": [
    "# using numpy with random to generate lat & long\n",
    "# Import the NumPy module.\n",
    "import numpy as np"
   ]
  },
  {
   "cell_type": "code",
   "execution_count": 17,
   "id": "bf4704f8",
   "metadata": {},
   "outputs": [
    {
     "data": {
      "text/plain": [
       "28.60885265441948"
      ]
     },
     "execution_count": 17,
     "metadata": {},
     "output_type": "execute_result"
    }
   ],
   "source": [
    "np.random.uniform(-90.000, 90.000) # or np.random.uniform(low=-90, high=90)"
   ]
  },
  {
   "cell_type": "code",
   "execution_count": 18,
   "id": "c7d641c4",
   "metadata": {},
   "outputs": [
    {
     "data": {
      "text/plain": [
       "array([ 25.73672944,  20.64919889,  74.06299732,   8.31267266,\n",
       "        43.00275165, -35.39812782,  21.59871191,  75.26140993,\n",
       "        89.23724809,  17.54853712, -23.59745462,  67.20569714,\n",
       "       -27.25350874,  18.28153527,  -0.3792178 , -71.18560177,\n",
       "        10.88065994,  71.56012938,  33.98472723,  59.31536703,\n",
       "        84.77598921, -52.89251416,  71.58291046,  -7.56881932,\n",
       "        36.65088955, -53.76646674,  58.98324452, -73.78005614,\n",
       "        84.9493023 ,  61.42976331, -20.52181042, -40.15721976,\n",
       "        48.42793154,  85.2716439 , -52.17628503,  14.26092941,\n",
       "       -73.70103499, -25.24997308,  22.88595711,   8.60701467,\n",
       "       -48.51745509, -52.37815521, -65.00995428, -11.77738351,\n",
       "        84.59891449, -34.49735853,  84.4059163 ,  25.61893462,\n",
       "        83.52858425,  62.51149998])"
      ]
     },
     "execution_count": 18,
     "metadata": {},
     "output_type": "execute_result"
    }
   ],
   "source": [
    "# to generate more than one floating-point decimal numbers use size parameter\n",
    "np.random.uniform(-90.000, 90.000, size=50)"
   ]
  },
  {
   "cell_type": "code",
   "execution_count": 22,
   "id": "b7c62645",
   "metadata": {},
   "outputs": [],
   "source": [
    "# measure how long a piece of code takes to run\n",
    "# Import timeit.\n",
    "import timeit"
   ]
  },
  {
   "cell_type": "code",
   "execution_count": 23,
   "id": "55768d54",
   "metadata": {},
   "outputs": [
    {
     "name": "stdout",
     "output_type": "stream",
     "text": [
      "14.1 µs ± 521 ns per loop (mean ± std. dev. of 7 runs, 100000 loops each)\n"
     ]
    }
   ],
   "source": [
    "%timeit np.random.uniform(-90.000, 90.000, size=1500)"
   ]
  },
  {
   "cell_type": "code",
   "execution_count": 24,
   "id": "bbeea40d",
   "metadata": {},
   "outputs": [
    {
     "name": "stdout",
     "output_type": "stream",
     "text": [
      "1.64 ms ± 63.5 µs per loop (mean ± std. dev. of 7 runs, 1000 loops each)\n"
     ]
    }
   ],
   "source": [
    "def latitudes(size):\n",
    "    latitudes = []\n",
    "    x = 0\n",
    "    while x < (size):\n",
    "        random_lat = random.randint(-90, 90) + random.random()\n",
    "        latitudes.append(random_lat)\n",
    "        x += 1\n",
    "    return latitudes\n",
    "# Call the function with 1500.\n",
    "%timeit latitudes(1500)"
   ]
  },
  {
   "cell_type": "code",
   "execution_count": null,
   "id": "50a4680f",
   "metadata": {},
   "outputs": [],
   "source": []
  }
 ],
 "metadata": {
  "kernelspec": {
   "display_name": "PythonData",
   "language": "python",
   "name": "pythondata"
  },
  "language_info": {
   "codemirror_mode": {
    "name": "ipython",
    "version": 3
   },
   "file_extension": ".py",
   "mimetype": "text/x-python",
   "name": "python",
   "nbconvert_exporter": "python",
   "pygments_lexer": "ipython3",
   "version": "3.7.11"
  }
 },
 "nbformat": 4,
 "nbformat_minor": 5
}
